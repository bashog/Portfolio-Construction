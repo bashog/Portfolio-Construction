{
 "cells": [
  {
   "cell_type": "code",
   "execution_count": 1,
   "metadata": {},
   "outputs": [
    {
     "name": "stdout",
     "output_type": "stream",
     "text": [
      "Requirement already satisfied: openpyxl in /opt/anaconda3/envs/cvxpy_env/lib/python3.9/site-packages (3.0.10)\n",
      "Requirement already satisfied: et-xmlfile in /opt/anaconda3/envs/cvxpy_env/lib/python3.9/site-packages (from openpyxl) (1.1.0)\n"
     ]
    }
   ],
   "source": [
    "import pandas as pd\n",
    "import numpy as np\n",
    "! pip install openpyxl"
   ]
  },
  {
   "cell_type": "code",
   "execution_count": 2,
   "metadata": {},
   "outputs": [],
   "source": [
    "data = pd.read_excel(\"datas/adjustedMSCIeurope.xlsx\")"
   ]
  },
  {
   "cell_type": "code",
   "execution_count": 3,
   "metadata": {},
   "outputs": [
    {
     "data": {
      "text/html": [
       "<div>\n",
       "<style scoped>\n",
       "    .dataframe tbody tr th:only-of-type {\n",
       "        vertical-align: middle;\n",
       "    }\n",
       "\n",
       "    .dataframe tbody tr th {\n",
       "        vertical-align: top;\n",
       "    }\n",
       "\n",
       "    .dataframe thead th {\n",
       "        text-align: right;\n",
       "    }\n",
       "</style>\n",
       "<table border=\"1\" class=\"dataframe\">\n",
       "  <thead>\n",
       "    <tr style=\"text-align: right;\">\n",
       "      <th></th>\n",
       "      <th>Unnamed: 0</th>\n",
       "      <th>Ticker</th>\n",
       "      <th>Ticker Yahoo</th>\n",
       "      <th>Nom</th>\n",
       "      <th>Secteur</th>\n",
       "      <th>Equity class</th>\n",
       "      <th>Market Share</th>\n",
       "      <th>Weights</th>\n",
       "      <th>Valeur notionnelle</th>\n",
       "      <th>Actions</th>\n",
       "      <th>ISIN</th>\n",
       "      <th>Currency</th>\n",
       "      <th>Environment Score</th>\n",
       "      <th>Social Score</th>\n",
       "      <th>Governance Score</th>\n",
       "      <th>Total Score</th>\n",
       "    </tr>\n",
       "  </thead>\n",
       "  <tbody>\n",
       "    <tr>\n",
       "      <th>0</th>\n",
       "      <td>0</td>\n",
       "      <td>NESN</td>\n",
       "      <td>NSRGY</td>\n",
       "      <td>NESTLE SA</td>\n",
       "      <td>Biens de consommation de base</td>\n",
       "      <td>Actions</td>\n",
       "      <td>EUR 48 274 991,14</td>\n",
       "      <td>5.655122</td>\n",
       "      <td>48274991.14</td>\n",
       "      <td>420838</td>\n",
       "      <td>CH0038863350</td>\n",
       "      <td>CHF</td>\n",
       "      <td>8.60</td>\n",
       "      <td>10.80</td>\n",
       "      <td>4.70</td>\n",
       "      <td>24.00</td>\n",
       "    </tr>\n",
       "    <tr>\n",
       "      <th>1</th>\n",
       "      <td>1</td>\n",
       "      <td>ASML</td>\n",
       "      <td>ASML</td>\n",
       "      <td>ASML HOLDING NV</td>\n",
       "      <td>Technologie de l'informatioon</td>\n",
       "      <td>Actions</td>\n",
       "      <td>EUR 34 906 428,20</td>\n",
       "      <td>4.093001</td>\n",
       "      <td>34906428.20</td>\n",
       "      <td>60802</td>\n",
       "      <td>NL0010273215</td>\n",
       "      <td>EUR</td>\n",
       "      <td>3.60</td>\n",
       "      <td>2.60</td>\n",
       "      <td>4.80</td>\n",
       "      <td>11.00</td>\n",
       "    </tr>\n",
       "    <tr>\n",
       "      <th>2</th>\n",
       "      <td>2</td>\n",
       "      <td>ROG</td>\n",
       "      <td>ROG.SW</td>\n",
       "      <td>ROCHE HOLDING PAR AG</td>\n",
       "      <td>Santé</td>\n",
       "      <td>Actions</td>\n",
       "      <td>EUR 33 188 774,68</td>\n",
       "      <td>3.887140</td>\n",
       "      <td>33188774.68</td>\n",
       "      <td>104989</td>\n",
       "      <td>CH0012032048</td>\n",
       "      <td>CHF</td>\n",
       "      <td>2.48</td>\n",
       "      <td>11.54</td>\n",
       "      <td>9.52</td>\n",
       "      <td>23.53</td>\n",
       "    </tr>\n",
       "    <tr>\n",
       "      <th>3</th>\n",
       "      <td>3</td>\n",
       "      <td>MC</td>\n",
       "      <td>MC.PA</td>\n",
       "      <td>LVMH</td>\n",
       "      <td>Biens de consommation cycliques</td>\n",
       "      <td>Actions</td>\n",
       "      <td>EUR 29 028 191,40</td>\n",
       "      <td>3.402761</td>\n",
       "      <td>29028191.40</td>\n",
       "      <td>41457</td>\n",
       "      <td>FR0000121014</td>\n",
       "      <td>EUR</td>\n",
       "      <td>0.76</td>\n",
       "      <td>5.93</td>\n",
       "      <td>5.67</td>\n",
       "      <td>12.37</td>\n",
       "    </tr>\n",
       "    <tr>\n",
       "      <th>4</th>\n",
       "      <td>4</td>\n",
       "      <td>NOVOB</td>\n",
       "      <td>NVO</td>\n",
       "      <td>NOVO NORDISK CLASS B</td>\n",
       "      <td>Santé</td>\n",
       "      <td>Actions</td>\n",
       "      <td>EUR 28 242 417,87</td>\n",
       "      <td>3.305885</td>\n",
       "      <td>28242417.87</td>\n",
       "      <td>247375</td>\n",
       "      <td>DK0060534915</td>\n",
       "      <td>DKK</td>\n",
       "      <td>2.10</td>\n",
       "      <td>13.50</td>\n",
       "      <td>8.40</td>\n",
       "      <td>24.00</td>\n",
       "    </tr>\n",
       "  </tbody>\n",
       "</table>\n",
       "</div>"
      ],
      "text/plain": [
       "   Unnamed: 0 Ticker Ticker Yahoo                   Nom  \\\n",
       "0           0   NESN        NSRGY             NESTLE SA   \n",
       "1           1   ASML         ASML       ASML HOLDING NV   \n",
       "2           2    ROG       ROG.SW  ROCHE HOLDING PAR AG   \n",
       "3           3     MC        MC.PA                  LVMH   \n",
       "4           4  NOVOB          NVO  NOVO NORDISK CLASS B   \n",
       "\n",
       "                           Secteur Equity class       Market Share   Weights  \\\n",
       "0    Biens de consommation de base      Actions  EUR 48 274 991,14  5.655122   \n",
       "1    Technologie de l'informatioon      Actions  EUR 34 906 428,20  4.093001   \n",
       "2                            Santé      Actions  EUR 33 188 774,68  3.887140   \n",
       "3  Biens de consommation cycliques      Actions  EUR 29 028 191,40  3.402761   \n",
       "4                            Santé      Actions  EUR 28 242 417,87  3.305885   \n",
       "\n",
       "   Valeur notionnelle  Actions          ISIN Currency  Environment Score  \\\n",
       "0         48274991.14   420838  CH0038863350      CHF               8.60   \n",
       "1         34906428.20    60802  NL0010273215      EUR               3.60   \n",
       "2         33188774.68   104989  CH0012032048      CHF               2.48   \n",
       "3         29028191.40    41457  FR0000121014      EUR               0.76   \n",
       "4         28242417.87   247375  DK0060534915      DKK               2.10   \n",
       "\n",
       "   Social Score  Governance Score  Total Score  \n",
       "0         10.80              4.70        24.00  \n",
       "1          2.60              4.80        11.00  \n",
       "2         11.54              9.52        23.53  \n",
       "3          5.93              5.67        12.37  \n",
       "4         13.50              8.40        24.00  "
      ]
     },
     "execution_count": 3,
     "metadata": {},
     "output_type": "execute_result"
    }
   ],
   "source": [
    "data.head()"
   ]
  },
  {
   "cell_type": "code",
   "execution_count": 4,
   "metadata": {},
   "outputs": [],
   "source": [
    "E_median = data[\"Environment Score\"].median()\n",
    "S_median = data[\"Social Score\"].median()\n",
    "G_median = data[\"Governance Score\"].median()\n",
    "T_median = data[\"Total Score\"].median()\n",
    "median = [E_median,S_median,G_median,T_median]"
   ]
  },
  {
   "cell_type": "code",
   "execution_count": 5,
   "metadata": {},
   "outputs": [],
   "source": [
    "comp = data[\"Ticker Yahoo\"][(data[\"Environment Score\"]<E_median) & (data[\"Social Score\"]<S_median) & (data[\"Environment Score\"]<G_median) & (data[\"Total Score\"]<T_median)].values"
   ]
  },
  {
   "cell_type": "code",
   "execution_count": 6,
   "metadata": {},
   "outputs": [
    {
     "name": "stdout",
     "output_type": "stream",
     "text": [
      "Notre portfeuille va contenir au total 56 actions.\n"
     ]
    }
   ],
   "source": [
    "print(f\"Notre portfeuille va contenir au total {len(comp)} actions.\")"
   ]
  },
  {
   "cell_type": "code",
   "execution_count": 7,
   "metadata": {},
   "outputs": [
    {
     "data": {
      "text/plain": [
       "array(['ASML', 'MC.PA', 'NVS', 'SAP', 'CFR.SW', 'ABB', 'RMS.PA', 'KER.PA',\n",
       "       'RI.PA', 'ISP.MI', 'CAP.PA', 'IDEXF', '6S=F', 'AMS.MC', 'SAMPO.HE',\n",
       "       'ADDYY', 'LR.PA', 'G.MI', 'VNA.DE', 'KNEBV.HE', 'CABK.MC',\n",
       "       'PUB.PA', 'COLO-B.CO', 'SHB-A.ST', 'SCMN.SW', 'KBC.BR', 'HNR1.DE',\n",
       "       'QGEN', 'BNR.DE', 'TRN.MI', 'EBS.VI', 'AENA.MC', 'EXO.AS',\n",
       "       'GBLC.CN', 'RDFN', 'BVI.PA', 'TELIA.ST', 'RAND.AS', 'ZAL.DE',\n",
       "       'SIG', 'VIV.PA', 'PNDORA.CO', 'JMT.LS', 'WFDRX', 'MB.MI', 'ATL.MI',\n",
       "       'LI.PA', 'BOL.PA', 'DIE.BR', 'GFC.PA', 'SECU-B.ST', 'IDVA.SG',\n",
       "       'FR.PA', 'LBGUF', 'COV.PA', 'MF.PA'], dtype=object)"
      ]
     },
     "execution_count": 7,
     "metadata": {},
     "output_type": "execute_result"
    }
   ],
   "source": [
    "comp"
   ]
  }
 ],
 "metadata": {
  "kernelspec": {
   "display_name": "Python 3.9.7",
   "language": "python",
   "name": "python3"
  },
  "language_info": {
   "codemirror_mode": {
    "name": "ipython",
    "version": 3
   },
   "file_extension": ".py",
   "mimetype": "text/x-python",
   "name": "python",
   "nbconvert_exporter": "python",
   "pygments_lexer": "ipython3",
   "version": "3.9.7"
  },
  "orig_nbformat": 4,
  "vscode": {
   "interpreter": {
    "hash": "07c739f4b13bf6c9da7bea2c76487048c562d33689c618c0fbed6757a596033e"
   }
  }
 },
 "nbformat": 4,
 "nbformat_minor": 2
}
