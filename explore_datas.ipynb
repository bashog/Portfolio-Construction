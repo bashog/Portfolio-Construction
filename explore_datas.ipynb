{
 "cells": [
  {
   "cell_type": "code",
   "execution_count": 2,
   "metadata": {},
   "outputs": [],
   "source": [
    "import pandas as pd"
   ]
  },
  {
   "cell_type": "code",
   "execution_count": 46,
   "metadata": {},
   "outputs": [],
   "source": [
    "prices = pd.read_csv('./datas/daily_prices.csv', index_col=0)\n",
    "msci = pd.read_excel('./datas/MSCIeurope.xlsx', index_col=0)"
   ]
  },
  {
   "cell_type": "code",
   "execution_count": 66,
   "metadata": {},
   "outputs": [],
   "source": [
    "\n",
    "msci.to_excel('./datas/MSCIeurope.xlsx')\n"
   ]
  },
  {
   "cell_type": "code",
   "execution_count": 51,
   "metadata": {},
   "outputs": [
    {
     "data": {
      "text/html": [
       "<div>\n",
       "<style scoped>\n",
       "    .dataframe tbody tr th:only-of-type {\n",
       "        vertical-align: middle;\n",
       "    }\n",
       "\n",
       "    .dataframe tbody tr th {\n",
       "        vertical-align: top;\n",
       "    }\n",
       "\n",
       "    .dataframe thead th {\n",
       "        text-align: right;\n",
       "    }\n",
       "</style>\n",
       "<table border=\"1\" class=\"dataframe\">\n",
       "  <thead>\n",
       "    <tr style=\"text-align: right;\">\n",
       "      <th></th>\n",
       "      <th>Ticker</th>\n",
       "      <th>Ticker Yahoo</th>\n",
       "      <th>Nom</th>\n",
       "      <th>Secteur</th>\n",
       "      <th>Equity class</th>\n",
       "      <th>Market Share</th>\n",
       "      <th>Weights</th>\n",
       "      <th>Valeur notionnelle</th>\n",
       "      <th>Actions</th>\n",
       "      <th>ISIN</th>\n",
       "      <th>Currency</th>\n",
       "      <th>Environment Score</th>\n",
       "      <th>Social Score</th>\n",
       "      <th>Governance Score</th>\n",
       "      <th>Total Score</th>\n",
       "    </tr>\n",
       "  </thead>\n",
       "  <tbody>\n",
       "    <tr>\n",
       "      <th>2</th>\n",
       "      <td>ROG</td>\n",
       "      <td>ROG.SW</td>\n",
       "      <td>ROCHE HOLDING PAR AG</td>\n",
       "      <td>Santé</td>\n",
       "      <td>Actions</td>\n",
       "      <td>EUR 33 188 774,68</td>\n",
       "      <td>3.21</td>\n",
       "      <td>33188774.68</td>\n",
       "      <td>104989</td>\n",
       "      <td>CH0012032048</td>\n",
       "      <td>CHF</td>\n",
       "      <td>2.48</td>\n",
       "      <td>11.54</td>\n",
       "      <td>9.52</td>\n",
       "      <td>23.53</td>\n",
       "    </tr>\n",
       "  </tbody>\n",
       "</table>\n",
       "</div>"
      ],
      "text/plain": [
       "  Ticker Ticker Yahoo                   Nom Secteur Equity class  \\\n",
       "2    ROG       ROG.SW  ROCHE HOLDING PAR AG   Santé      Actions   \n",
       "\n",
       "        Market Share  Weights  Valeur notionnelle  Actions          ISIN  \\\n",
       "2  EUR 33 188 774,68     3.21         33188774.68   104989  CH0012032048   \n",
       "\n",
       "  Currency  Environment Score  Social Score  Governance Score  Total Score  \n",
       "2      CHF               2.48         11.54              9.52        23.53  "
      ]
     },
     "execution_count": 51,
     "metadata": {},
     "output_type": "execute_result"
    }
   ],
   "source": [
    "msci.loc [msci['Ticker Yahoo'] == 'ROG.SW',]"
   ]
  },
  {
   "cell_type": "code",
   "execution_count": 48,
   "metadata": {},
   "outputs": [],
   "source": [
    "# remove row with identical yahoo ticker and keep only the one with the biggest weights\n",
    "msci = msci.drop_duplicates(subset='Ticker Yahoo', keep='first')"
   ]
  },
  {
   "cell_type": "code",
   "execution_count": 59,
   "metadata": {},
   "outputs": [
    {
     "data": {
      "text/plain": [
       "array([False])"
      ]
     },
     "execution_count": 59,
     "metadata": {},
     "output_type": "execute_result"
    }
   ],
   "source": [
    "msci.loc [msci['Ticker Yahoo'] == 'ROG.SW', 'Weights'].values == 0"
   ]
  },
  {
   "cell_type": "code",
   "execution_count": 64,
   "metadata": {},
   "outputs": [
    {
     "name": "stdout",
     "output_type": "stream",
     "text": [
      "40.35999999999998 120\n"
     ]
    },
    {
     "name": "stderr",
     "output_type": "stream",
     "text": [
      "/tmp/ipykernel_1150/3258146991.py:4: DeprecationWarning: The truth value of an empty array is ambiguous. Returning False, but in future this will result in an error. Use `array.size > 0` to check that an array is not empty.\n",
      "  if msci.loc[msci['Ticker Yahoo'] == col, 'Total Score'].values== 0:\n"
     ]
    }
   ],
   "source": [
    "weights = 0\n",
    "count = 0\n",
    "for col in prices.columns:\n",
    "    if msci.loc[msci['Ticker Yahoo'] == col, 'Total Score'].values== 0:\n",
    "        weights += msci.loc [msci['Ticker Yahoo'] == col, 'Weights'].values[0]\n",
    "        count += 1\n",
    "        # assign -1 to toal score of the ticker with 0 total score\n",
    "        msci.loc[msci['Ticker Yahoo'] == col, 'Total Score'] = -1\n",
    "print(weights, count)\n"
   ]
  },
  {
   "cell_type": "code",
   "execution_count": 67,
   "metadata": {},
   "outputs": [
    {
     "data": {
      "text/plain": [
       "89.6"
      ]
     },
     "execution_count": 67,
     "metadata": {},
     "output_type": "execute_result"
    }
   ],
   "source": [
    "# sum totale weights\n",
    "msci['Weights'].sum()"
   ]
  }
 ],
 "metadata": {
  "kernelspec": {
   "display_name": "Python 3.9.13 ('base')",
   "language": "python",
   "name": "python3"
  },
  "language_info": {
   "codemirror_mode": {
    "name": "ipython",
    "version": 3
   },
   "file_extension": ".py",
   "mimetype": "text/x-python",
   "name": "python",
   "nbconvert_exporter": "python",
   "pygments_lexer": "ipython3",
   "version": "3.9.13"
  },
  "orig_nbformat": 4,
  "vscode": {
   "interpreter": {
    "hash": "d4d1e4263499bec80672ea0156c357c1ee493ec2b1c70f0acce89fc37c4a6abe"
   }
  }
 },
 "nbformat": 4,
 "nbformat_minor": 2
}
