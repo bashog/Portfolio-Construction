{
 "cells": [
  {
   "cell_type": "code",
   "execution_count": 2,
   "metadata": {},
   "outputs": [],
   "source": [
    "import investpy as ip\n",
    "import yahooquery as yq\n",
    "from pandas_datareader import data as pdr\n",
    "import pandas as pd\n",
    "from tqdm import trange\n",
    "import yfinance as yf\n"
   ]
  },
  {
   "cell_type": "code",
   "execution_count": 6,
   "metadata": {},
   "outputs": [
    {
     "data": {
      "text/html": [
       "<div>\n",
       "<style scoped>\n",
       "    .dataframe tbody tr th:only-of-type {\n",
       "        vertical-align: middle;\n",
       "    }\n",
       "\n",
       "    .dataframe tbody tr th {\n",
       "        vertical-align: top;\n",
       "    }\n",
       "\n",
       "    .dataframe thead th {\n",
       "        text-align: right;\n",
       "    }\n",
       "</style>\n",
       "<table border=\"1\" class=\"dataframe\">\n",
       "  <thead>\n",
       "    <tr style=\"text-align: right;\">\n",
       "      <th></th>\n",
       "      <th>Ticker</th>\n",
       "      <th>Ticker Yahoo</th>\n",
       "      <th>Nom</th>\n",
       "      <th>Secteur</th>\n",
       "      <th>Equity class</th>\n",
       "      <th>Market Share</th>\n",
       "      <th>Weights</th>\n",
       "      <th>Valeur notionnelle</th>\n",
       "      <th>Actions</th>\n",
       "      <th>ISIN</th>\n",
       "      <th>Currency</th>\n",
       "    </tr>\n",
       "  </thead>\n",
       "  <tbody>\n",
       "    <tr>\n",
       "      <th>0</th>\n",
       "      <td>NESN</td>\n",
       "      <td>NSRGY</td>\n",
       "      <td>NESTLE SA</td>\n",
       "      <td>Biens de consommation de base</td>\n",
       "      <td>Actions</td>\n",
       "      <td>EUR 48 274 991,14</td>\n",
       "      <td>4.67</td>\n",
       "      <td>48274991.14</td>\n",
       "      <td>420838</td>\n",
       "      <td>CH0038863350</td>\n",
       "      <td>CHF</td>\n",
       "    </tr>\n",
       "    <tr>\n",
       "      <th>1</th>\n",
       "      <td>ASML</td>\n",
       "      <td>ASML</td>\n",
       "      <td>ASML HOLDING NV</td>\n",
       "      <td>Technologie de l'informatioon</td>\n",
       "      <td>Actions</td>\n",
       "      <td>EUR 34 906 428,20</td>\n",
       "      <td>3.38</td>\n",
       "      <td>34906428.20</td>\n",
       "      <td>60802</td>\n",
       "      <td>NL0010273215</td>\n",
       "      <td>EUR</td>\n",
       "    </tr>\n",
       "    <tr>\n",
       "      <th>2</th>\n",
       "      <td>ROG</td>\n",
       "      <td>ROG.SW</td>\n",
       "      <td>ROCHE HOLDING PAR AG</td>\n",
       "      <td>Santé</td>\n",
       "      <td>Actions</td>\n",
       "      <td>EUR 33 188 774,68</td>\n",
       "      <td>3.21</td>\n",
       "      <td>33188774.68</td>\n",
       "      <td>104989</td>\n",
       "      <td>CH0012032048</td>\n",
       "      <td>CHF</td>\n",
       "    </tr>\n",
       "    <tr>\n",
       "      <th>3</th>\n",
       "      <td>MC</td>\n",
       "      <td>MC.PA</td>\n",
       "      <td>LVMH</td>\n",
       "      <td>Biens de consommation cycliques</td>\n",
       "      <td>Actions</td>\n",
       "      <td>EUR 29 028 191,40</td>\n",
       "      <td>2.81</td>\n",
       "      <td>29028191.40</td>\n",
       "      <td>41457</td>\n",
       "      <td>FR0000121014</td>\n",
       "      <td>EUR</td>\n",
       "    </tr>\n",
       "    <tr>\n",
       "      <th>4</th>\n",
       "      <td>NOVOB</td>\n",
       "      <td>NVO</td>\n",
       "      <td>NOVO NORDISK CLASS B</td>\n",
       "      <td>Santé</td>\n",
       "      <td>Actions</td>\n",
       "      <td>EUR 28 242 417,87</td>\n",
       "      <td>2.73</td>\n",
       "      <td>28242417.87</td>\n",
       "      <td>247375</td>\n",
       "      <td>DK0060534915</td>\n",
       "      <td>DKK</td>\n",
       "    </tr>\n",
       "  </tbody>\n",
       "</table>\n",
       "</div>"
      ],
      "text/plain": [
       "  Ticker Ticker Yahoo                   Nom                          Secteur  \\\n",
       "0   NESN        NSRGY             NESTLE SA    Biens de consommation de base   \n",
       "1   ASML         ASML       ASML HOLDING NV    Technologie de l'informatioon   \n",
       "2    ROG       ROG.SW  ROCHE HOLDING PAR AG                            Santé   \n",
       "3     MC        MC.PA                  LVMH  Biens de consommation cycliques   \n",
       "4  NOVOB          NVO  NOVO NORDISK CLASS B                            Santé   \n",
       "\n",
       "  Equity class       Market Share  Weights  Valeur notionnelle  Actions  \\\n",
       "0      Actions  EUR 48 274 991,14     4.67         48274991.14   420838   \n",
       "1      Actions  EUR 34 906 428,20     3.38         34906428.20    60802   \n",
       "2      Actions  EUR 33 188 774,68     3.21         33188774.68   104989   \n",
       "3      Actions  EUR 29 028 191,40     2.81         29028191.40    41457   \n",
       "4      Actions  EUR 28 242 417,87     2.73         28242417.87   247375   \n",
       "\n",
       "           ISIN Currency  \n",
       "0  CH0038863350      CHF  \n",
       "1  NL0010273215      EUR  \n",
       "2  CH0012032048      CHF  \n",
       "3  FR0000121014      EUR  \n",
       "4  DK0060534915      DKK  "
      ]
     },
     "execution_count": 6,
     "metadata": {},
     "output_type": "execute_result"
    }
   ],
   "source": [
    "df = pd.read_excel('./datas/MSCIeurope.xlsx')\n",
    "df.head()"
   ]
  },
  {
   "cell_type": "markdown",
   "metadata": {},
   "source": [
    "## get yahoo ticker"
   ]
  },
  {
   "cell_type": "code",
   "execution_count": 2,
   "metadata": {},
   "outputs": [],
   "source": [
    "def find_ticker(isin):\n",
    "    try:\n",
    "        company_name = ip.stocks.search_stocks(by='isin', value=str(isin))\n",
    "        company_name = company_name[\"name\"][0].split(' ')[0]\n",
    "        symbol = yq.search(company_name)[\"quotes\"][0][\"symbol\"]\n",
    "    except:\n",
    "        symbol = None\n",
    "    return symbol"
   ]
  },
  {
   "cell_type": "code",
   "execution_count": null,
   "metadata": {},
   "outputs": [],
   "source": [
    "for i in range(len(df)):\n",
    "    df.loc[i, \"Ticker Yahoo\"] = find_ticker(df.loc[i, \"ISIN\"])\n",
    "df = df[['Ticker', 'Ticker Yahoo', 'Nom', 'Secteur', 'Equity class', 'Market Share', 'Weights',\n",
    "       'Valeur notionnelle', 'Actions', 'ISIN', 'Currency', ]] "
   ]
  },
  {
   "cell_type": "code",
   "execution_count": 10,
   "metadata": {},
   "outputs": [
    {
     "name": "stdout",
     "output_type": "stream",
     "text": [
      "99.98999999999998\n",
      "6.82\n"
     ]
    }
   ],
   "source": [
    "# total weight\n",
    "print(df[\"Weights\"].sum())\n",
    "# lost weights\n",
    "print(df.loc[(df['Ticker Yahoo'].isna()), 'Weights'].sum())"
   ]
  },
  {
   "cell_type": "markdown",
   "metadata": {},
   "source": [
    "### get ESG scores"
   ]
  },
  {
   "cell_type": "code",
   "execution_count": 7,
   "metadata": {},
   "outputs": [
    {
     "name": "stderr",
     "output_type": "stream",
     "text": [
      " 53%|█████▎    | 189/357 [35:36<37:34, 13.42s/it] "
     ]
    }
   ],
   "source": [
    "esg_scores = pd.DataFrame(columns = ['Ticker Yahoo', 'Environment Score', 'Social Score', 'Governance Score', 'Total Score'], index = range(len(df)))\n",
    "# trange = tqdm(range(len(df)))\n",
    "\n",
    "for i in trange(len(df)):\n",
    "    ticker = df.loc[i, 'Ticker Yahoo']\n",
    "    try:\n",
    "        sus = yf.Ticker(ticker).sustainability\n",
    "        scores = sus.loc[['environmentScore','socialScore','governanceScore','totalEsg'],'Value']\n",
    "        esg_scores.loc[i] = [ticker, scores[0], scores[1], scores[2], scores[3]]\n",
    "    except:\n",
    "        pass\n",
    "esg_scores\n",
    "\n"
   ]
  }
 ],
 "metadata": {
  "kernelspec": {
   "display_name": "Python 3.10.4 64-bit",
   "language": "python",
   "name": "python3"
  },
  "language_info": {
   "codemirror_mode": {
    "name": "ipython",
    "version": 3
   },
   "file_extension": ".py",
   "mimetype": "text/x-python",
   "name": "python",
   "nbconvert_exporter": "python",
   "pygments_lexer": "ipython3",
   "version": "3.10.4"
  },
  "orig_nbformat": 4,
  "vscode": {
   "interpreter": {
    "hash": "3ad933181bd8a04b432d3370b9dc3b0662ad032c4dfaa4e4f1596c548f763858"
   }
  }
 },
 "nbformat": 4,
 "nbformat_minor": 2
}
