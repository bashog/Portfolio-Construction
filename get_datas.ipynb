{
 "cells": [
  {
   "cell_type": "code",
   "execution_count": 2,
   "metadata": {},
   "outputs": [
    {
     "ename": "ModuleNotFoundError",
     "evalue": "No module named 'investpy'",
     "output_type": "error",
     "traceback": [
      "\u001b[0;31m---------------------------------------------------------------------------\u001b[0m",
      "\u001b[0;31mModuleNotFoundError\u001b[0m                       Traceback (most recent call last)",
      "Cell \u001b[0;32mIn[2], line 1\u001b[0m\n\u001b[0;32m----> 1\u001b[0m \u001b[39mimport\u001b[39;00m \u001b[39minvestpy\u001b[39;00m \u001b[39mas\u001b[39;00m \u001b[39mip\u001b[39;00m\n\u001b[1;32m      2\u001b[0m \u001b[39mimport\u001b[39;00m \u001b[39myahooquery\u001b[39;00m \u001b[39mas\u001b[39;00m \u001b[39myq\u001b[39;00m\n\u001b[1;32m      3\u001b[0m \u001b[39mfrom\u001b[39;00m \u001b[39mpandas_datareader\u001b[39;00m \u001b[39mimport\u001b[39;00m data \u001b[39mas\u001b[39;00m pdr\n",
      "\u001b[0;31mModuleNotFoundError\u001b[0m: No module named 'investpy'"
     ]
    }
   ],
   "source": [
    "import investpy as ip\n",
    "import yahooquery as yq\n",
    "from pandas_datareader import data as pdr\n",
    "import pandas as pd\n",
    "from tqdm import trange\n",
    "import yfinance as yf\n"
   ]
  },
  {
   "cell_type": "code",
   "execution_count": 6,
   "metadata": {},
   "outputs": [
    {
     "data": {
      "text/html": [
       "<div>\n",
       "<style scoped>\n",
       "    .dataframe tbody tr th:only-of-type {\n",
       "        vertical-align: middle;\n",
       "    }\n",
       "\n",
       "    .dataframe tbody tr th {\n",
       "        vertical-align: top;\n",
       "    }\n",
       "\n",
       "    .dataframe thead th {\n",
       "        text-align: right;\n",
       "    }\n",
       "</style>\n",
       "<table border=\"1\" class=\"dataframe\">\n",
       "  <thead>\n",
       "    <tr style=\"text-align: right;\">\n",
       "      <th></th>\n",
       "      <th>Ticker</th>\n",
       "      <th>Ticker Yahoo</th>\n",
       "      <th>Nom</th>\n",
       "      <th>Secteur</th>\n",
       "      <th>Equity class</th>\n",
       "      <th>Market Share</th>\n",
       "      <th>Weights</th>\n",
       "      <th>Valeur notionnelle</th>\n",
       "      <th>Actions</th>\n",
       "      <th>ISIN</th>\n",
       "      <th>Currency</th>\n",
       "    </tr>\n",
       "  </thead>\n",
       "  <tbody>\n",
       "    <tr>\n",
       "      <th>0</th>\n",
       "      <td>NESN</td>\n",
       "      <td>NSRGY</td>\n",
       "      <td>NESTLE SA</td>\n",
       "      <td>Biens de consommation de base</td>\n",
       "      <td>Actions</td>\n",
       "      <td>EUR 48 274 991,14</td>\n",
       "      <td>4.67</td>\n",
       "      <td>48274991.14</td>\n",
       "      <td>420838</td>\n",
       "      <td>CH0038863350</td>\n",
       "      <td>CHF</td>\n",
       "    </tr>\n",
       "    <tr>\n",
       "      <th>1</th>\n",
       "      <td>ASML</td>\n",
       "      <td>ASML</td>\n",
       "      <td>ASML HOLDING NV</td>\n",
       "      <td>Technologie de l'informatioon</td>\n",
       "      <td>Actions</td>\n",
       "      <td>EUR 34 906 428,20</td>\n",
       "      <td>3.38</td>\n",
       "      <td>34906428.20</td>\n",
       "      <td>60802</td>\n",
       "      <td>NL0010273215</td>\n",
       "      <td>EUR</td>\n",
       "    </tr>\n",
       "    <tr>\n",
       "      <th>2</th>\n",
       "      <td>ROG</td>\n",
       "      <td>ROG.SW</td>\n",
       "      <td>ROCHE HOLDING PAR AG</td>\n",
       "      <td>Santé</td>\n",
       "      <td>Actions</td>\n",
       "      <td>EUR 33 188 774,68</td>\n",
       "      <td>3.21</td>\n",
       "      <td>33188774.68</td>\n",
       "      <td>104989</td>\n",
       "      <td>CH0012032048</td>\n",
       "      <td>CHF</td>\n",
       "    </tr>\n",
       "    <tr>\n",
       "      <th>3</th>\n",
       "      <td>MC</td>\n",
       "      <td>MC.PA</td>\n",
       "      <td>LVMH</td>\n",
       "      <td>Biens de consommation cycliques</td>\n",
       "      <td>Actions</td>\n",
       "      <td>EUR 29 028 191,40</td>\n",
       "      <td>2.81</td>\n",
       "      <td>29028191.40</td>\n",
       "      <td>41457</td>\n",
       "      <td>FR0000121014</td>\n",
       "      <td>EUR</td>\n",
       "    </tr>\n",
       "    <tr>\n",
       "      <th>4</th>\n",
       "      <td>NOVOB</td>\n",
       "      <td>NVO</td>\n",
       "      <td>NOVO NORDISK CLASS B</td>\n",
       "      <td>Santé</td>\n",
       "      <td>Actions</td>\n",
       "      <td>EUR 28 242 417,87</td>\n",
       "      <td>2.73</td>\n",
       "      <td>28242417.87</td>\n",
       "      <td>247375</td>\n",
       "      <td>DK0060534915</td>\n",
       "      <td>DKK</td>\n",
       "    </tr>\n",
       "  </tbody>\n",
       "</table>\n",
       "</div>"
      ],
      "text/plain": [
       "  Ticker Ticker Yahoo                   Nom                          Secteur  \\\n",
       "0   NESN        NSRGY             NESTLE SA    Biens de consommation de base   \n",
       "1   ASML         ASML       ASML HOLDING NV    Technologie de l'informatioon   \n",
       "2    ROG       ROG.SW  ROCHE HOLDING PAR AG                            Santé   \n",
       "3     MC        MC.PA                  LVMH  Biens de consommation cycliques   \n",
       "4  NOVOB          NVO  NOVO NORDISK CLASS B                            Santé   \n",
       "\n",
       "  Equity class       Market Share  Weights  Valeur notionnelle  Actions  \\\n",
       "0      Actions  EUR 48 274 991,14     4.67         48274991.14   420838   \n",
       "1      Actions  EUR 34 906 428,20     3.38         34906428.20    60802   \n",
       "2      Actions  EUR 33 188 774,68     3.21         33188774.68   104989   \n",
       "3      Actions  EUR 29 028 191,40     2.81         29028191.40    41457   \n",
       "4      Actions  EUR 28 242 417,87     2.73         28242417.87   247375   \n",
       "\n",
       "           ISIN Currency  \n",
       "0  CH0038863350      CHF  \n",
       "1  NL0010273215      EUR  \n",
       "2  CH0012032048      CHF  \n",
       "3  FR0000121014      EUR  \n",
       "4  DK0060534915      DKK  "
      ]
     },
     "execution_count": 6,
     "metadata": {},
     "output_type": "execute_result"
    }
   ],
   "source": [
    "df = pd.read_excel('./datas/MSCIeurope.xlsx')\n",
    "df.head()"
   ]
  },
  {
   "cell_type": "markdown",
   "metadata": {},
   "source": [
    "## get yahoo ticker"
   ]
  },
  {
   "cell_type": "code",
   "execution_count": 2,
   "metadata": {},
   "outputs": [],
   "source": [
    "def find_ticker(isin):\n",
    "    try:\n",
    "        company_name = ip.stocks.search_stocks(by='isin', value=str(isin))\n",
    "        company_name = company_name[\"name\"][0].split(' ')[0]\n",
    "        symbol = yq.search(company_name)[\"quotes\"][0][\"symbol\"]\n",
    "    except:\n",
    "        symbol = None\n",
    "    return symbol"
   ]
  },
  {
   "cell_type": "code",
   "execution_count": null,
   "metadata": {},
   "outputs": [],
   "source": [
    "for i in range(len(df)):\n",
    "    df.loc[i, \"Ticker Yahoo\"] = find_ticker(df.loc[i, \"ISIN\"])\n",
    "df = df[['Ticker', 'Ticker Yahoo', 'Nom', 'Secteur', 'Equity class', 'Market Share', 'Weights',\n",
    "       'Valeur notionnelle', 'Actions', 'ISIN', 'Currency', ]] "
   ]
  },
  {
   "cell_type": "code",
   "execution_count": 10,
   "metadata": {},
   "outputs": [
    {
     "name": "stdout",
     "output_type": "stream",
     "text": [
      "99.98999999999998\n",
      "6.82\n"
     ]
    }
   ],
   "source": [
    "# total weight\n",
    "print(df[\"Weights\"].sum())\n",
    "# lost weights\n",
    "print(df.loc[(df['Ticker Yahoo'].isna()), 'Weights'].sum())"
   ]
  },
  {
   "cell_type": "markdown",
   "metadata": {},
   "source": [
    "### get ESG scores"
   ]
  },
  {
   "cell_type": "code",
   "execution_count": 11,
   "metadata": {},
   "outputs": [
    {
     "name": "stderr",
     "output_type": "stream",
     "text": [
      "100%|██████████| 357/357 [09:28<00:00,  1.59s/it]\n"
     ]
    },
    {
     "data": {
      "text/html": [
       "<div>\n",
       "<style scoped>\n",
       "    .dataframe tbody tr th:only-of-type {\n",
       "        vertical-align: middle;\n",
       "    }\n",
       "\n",
       "    .dataframe tbody tr th {\n",
       "        vertical-align: top;\n",
       "    }\n",
       "\n",
       "    .dataframe thead th {\n",
       "        text-align: right;\n",
       "    }\n",
       "</style>\n",
       "<table border=\"1\" class=\"dataframe\">\n",
       "  <thead>\n",
       "    <tr style=\"text-align: right;\">\n",
       "      <th></th>\n",
       "      <th>Ticker Yahoo</th>\n",
       "      <th>Environment Score</th>\n",
       "      <th>Social Score</th>\n",
       "      <th>Governance Score</th>\n",
       "      <th>Total Score</th>\n",
       "    </tr>\n",
       "  </thead>\n",
       "  <tbody>\n",
       "    <tr>\n",
       "      <th>0</th>\n",
       "      <td>NaN</td>\n",
       "      <td>NaN</td>\n",
       "      <td>NaN</td>\n",
       "      <td>NaN</td>\n",
       "      <td>NaN</td>\n",
       "    </tr>\n",
       "    <tr>\n",
       "      <th>1</th>\n",
       "      <td>NaN</td>\n",
       "      <td>NaN</td>\n",
       "      <td>NaN</td>\n",
       "      <td>NaN</td>\n",
       "      <td>NaN</td>\n",
       "    </tr>\n",
       "    <tr>\n",
       "      <th>2</th>\n",
       "      <td>ROG.SW</td>\n",
       "      <td>2.48</td>\n",
       "      <td>11.54</td>\n",
       "      <td>9.52</td>\n",
       "      <td>23.53</td>\n",
       "    </tr>\n",
       "    <tr>\n",
       "      <th>3</th>\n",
       "      <td>MC.PA</td>\n",
       "      <td>0.76</td>\n",
       "      <td>5.93</td>\n",
       "      <td>5.67</td>\n",
       "      <td>12.37</td>\n",
       "    </tr>\n",
       "    <tr>\n",
       "      <th>4</th>\n",
       "      <td>NaN</td>\n",
       "      <td>NaN</td>\n",
       "      <td>NaN</td>\n",
       "      <td>NaN</td>\n",
       "      <td>NaN</td>\n",
       "    </tr>\n",
       "    <tr>\n",
       "      <th>...</th>\n",
       "      <td>...</td>\n",
       "      <td>...</td>\n",
       "      <td>...</td>\n",
       "      <td>...</td>\n",
       "      <td>...</td>\n",
       "    </tr>\n",
       "    <tr>\n",
       "      <th>352</th>\n",
       "      <td>NaN</td>\n",
       "      <td>NaN</td>\n",
       "      <td>NaN</td>\n",
       "      <td>NaN</td>\n",
       "      <td>NaN</td>\n",
       "    </tr>\n",
       "    <tr>\n",
       "      <th>353</th>\n",
       "      <td>NaN</td>\n",
       "      <td>NaN</td>\n",
       "      <td>NaN</td>\n",
       "      <td>NaN</td>\n",
       "      <td>NaN</td>\n",
       "    </tr>\n",
       "    <tr>\n",
       "      <th>354</th>\n",
       "      <td>NaN</td>\n",
       "      <td>NaN</td>\n",
       "      <td>NaN</td>\n",
       "      <td>NaN</td>\n",
       "      <td>NaN</td>\n",
       "    </tr>\n",
       "    <tr>\n",
       "      <th>355</th>\n",
       "      <td>NaN</td>\n",
       "      <td>NaN</td>\n",
       "      <td>NaN</td>\n",
       "      <td>NaN</td>\n",
       "      <td>NaN</td>\n",
       "    </tr>\n",
       "    <tr>\n",
       "      <th>356</th>\n",
       "      <td>NaN</td>\n",
       "      <td>NaN</td>\n",
       "      <td>NaN</td>\n",
       "      <td>NaN</td>\n",
       "      <td>NaN</td>\n",
       "    </tr>\n",
       "  </tbody>\n",
       "</table>\n",
       "<p>357 rows × 5 columns</p>\n",
       "</div>"
      ],
      "text/plain": [
       "    Ticker Yahoo Environment Score Social Score Governance Score Total Score\n",
       "0            NaN               NaN          NaN              NaN         NaN\n",
       "1            NaN               NaN          NaN              NaN         NaN\n",
       "2         ROG.SW              2.48        11.54             9.52       23.53\n",
       "3          MC.PA              0.76         5.93             5.67       12.37\n",
       "4            NaN               NaN          NaN              NaN         NaN\n",
       "..           ...               ...          ...              ...         ...\n",
       "352          NaN               NaN          NaN              NaN         NaN\n",
       "353          NaN               NaN          NaN              NaN         NaN\n",
       "354          NaN               NaN          NaN              NaN         NaN\n",
       "355          NaN               NaN          NaN              NaN         NaN\n",
       "356          NaN               NaN          NaN              NaN         NaN\n",
       "\n",
       "[357 rows x 5 columns]"
      ]
     },
     "execution_count": 11,
     "metadata": {},
     "output_type": "execute_result"
    }
   ],
   "source": [
    "esg_scores = pd.DataFrame(columns = ['Ticker Yahoo', 'Environment Score', 'Social Score', 'Governance Score', 'Total Score'], index = range(len(df)))\n",
    "# trange = tqdm(range(len(df)))\n",
    "\n",
    "for i in trange(len(df)):\n",
    "    ticker = df.loc[i, 'Ticker Yahoo']\n",
    "    try:\n",
    "        sus = yf.Ticker(ticker).sustainability\n",
    "        scores = sus.loc[['environmentScore','socialScore','governanceScore','totalEsg'],'Value']\n",
    "        esg_scores.loc[i] = [ticker, scores[0], scores[1], scores[2], scores[3]]\n",
    "    except:\n",
    "        pass\n",
    "esg_scores\n"
   ]
  },
  {
   "cell_type": "code",
   "execution_count": 15,
   "metadata": {},
   "outputs": [
    {
     "name": "stdout",
     "output_type": "stream",
     "text": [
      "Ticker Yahoo         175\n",
      "Environment Score    175\n",
      "Social Score         175\n",
      "Governance Score     175\n",
      "Total Score          175\n",
      "dtype: int64\n"
     ]
    }
   ],
   "source": [
    "# count missing esg scores\n",
    "print(esg_scores.isna().sum())"
   ]
  },
  {
   "cell_type": "code",
   "execution_count": 12,
   "metadata": {},
   "outputs": [],
   "source": [
    "# concat the two dataframes\n",
    "df = pd.concat([df, esg_scores], axis=1)"
   ]
  },
  {
   "cell_type": "code",
   "execution_count": 14,
   "metadata": {},
   "outputs": [],
   "source": [
    "# save the dataframe\n",
    "df.to_excel('./datas/MSCIeurope.xlsx')"
   ]
  },
  {
   "cell_type": "markdown",
   "metadata": {},
   "source": [
    "### create the datasets with the price for all ticker"
   ]
  },
  {
   "cell_type": "code",
   "execution_count": 6,
   "metadata": {},
   "outputs": [
    {
     "ename": "ModuleNotFoundError",
     "evalue": "No module named 'yfinance'",
     "output_type": "error",
     "traceback": [
      "\u001b[0;31m---------------------------------------------------------------------------\u001b[0m",
      "\u001b[0;31mModuleNotFoundError\u001b[0m                       Traceback (most recent call last)",
      "Cell \u001b[0;32mIn[6], line 1\u001b[0m\n\u001b[0;32m----> 1\u001b[0m \u001b[39mimport\u001b[39;00m \u001b[39myfinance\u001b[39;00m \u001b[39mas\u001b[39;00m \u001b[39myf\u001b[39;00m\n",
      "\u001b[0;31mModuleNotFoundError\u001b[0m: No module named 'yfinance'"
     ]
    }
   ],
   "source": [
    "import yfinance as yf"
   ]
  },
  {
   "cell_type": "code",
   "execution_count": null,
   "metadata": {},
   "outputs": [],
   "source": [
    "prices = None\n",
    "# trange = tqdm(range(len(df)))\n",
    "for i in trange(len(df)):\n",
    "    ticker = df.loc[i, 'Ticker Yahoo']\n",
    "    try:\n",
    "        data = yf.download(ticker)\n",
    "        prices = data.history(period=\"max\")\n"
   ]
  }
 ],
 "metadata": {
  "kernelspec": {
   "display_name": "Python 3.10.4 64-bit",
   "language": "python",
   "name": "python3"
  },
  "language_info": {
   "codemirror_mode": {
    "name": "ipython",
    "version": 3
   },
   "file_extension": ".py",
   "mimetype": "text/x-python",
   "name": "python",
   "nbconvert_exporter": "python",
   "pygments_lexer": "ipython3",
   "version": "3.9.2"
  },
  "orig_nbformat": 4,
  "vscode": {
   "interpreter": {
    "hash": "eb4a0ac80907d7f44e1a5e88d3d3381b33e3dbedd3a24d113e876f30a0c46bee"
   }
  }
 },
 "nbformat": 4,
 "nbformat_minor": 2
}
